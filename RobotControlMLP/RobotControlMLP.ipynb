{
  "nbformat": 4,
  "nbformat_minor": 0,
  "metadata": {
    "colab": {
      "name": "RobotControlMLP.ipynb",
      "provenance": [],
      "authorship_tag": "ABX9TyNmiFyCFzhxR2sn6exNvcC2",
      "include_colab_link": true
    },
    "kernelspec": {
      "name": "python3",
      "display_name": "Python 3"
    }
  },
  "cells": [
    {
      "cell_type": "markdown",
      "metadata": {
        "id": "view-in-github",
        "colab_type": "text"
      },
      "source": [
        "<a href=\"https://colab.research.google.com/github/vilsonrodrigues/DeepLearning/blob/main/RobotControlMLP/RobotControlMLP.ipynb\" target=\"_parent\"><img src=\"https://colab.research.google.com/assets/colab-badge.svg\" alt=\"Open In Colab\"/></a>"
      ]
    },
    {
      "cell_type": "markdown",
      "metadata": {
        "id": "87OosawVROR6"
      },
      "source": [
        "Libraries "
      ]
    },
    {
      "cell_type": "code",
      "metadata": {
        "id": "Smxst4uYRH1O"
      },
      "source": [
        "import pandas as pd\r\n",
        "import numpy as np\r\n",
        "import tensorflow as tf"
      ],
      "execution_count": 1,
      "outputs": []
    },
    {
      "cell_type": "markdown",
      "metadata": {
        "id": "tzN-d-UqRaVY"
      },
      "source": [
        "Importando dados"
      ]
    },
    {
      "cell_type": "code",
      "metadata": {
        "id": "Ef6nJ_adRZLS"
      },
      "source": [
        "df = pd.read_csv('https://raw.githubusercontent.com/vilsonrodrigues/DeepLearning/main/RobotControlMLP/sensor_readings_24.csv', header = None)"
      ],
      "execution_count": 5,
      "outputs": []
    },
    {
      "cell_type": "code",
      "metadata": {
        "colab": {
          "base_uri": "https://localhost:8080/",
          "height": 204
        },
        "id": "dgmKDRWuRmuK",
        "outputId": "154768a7-9019-47ba-e9d6-816efe836c1c"
      },
      "source": [
        "df.head()"
      ],
      "execution_count": 6,
      "outputs": [
        {
          "output_type": "execute_result",
          "data": {
            "text/html": [
              "<div>\n",
              "<style scoped>\n",
              "    .dataframe tbody tr th:only-of-type {\n",
              "        vertical-align: middle;\n",
              "    }\n",
              "\n",
              "    .dataframe tbody tr th {\n",
              "        vertical-align: top;\n",
              "    }\n",
              "\n",
              "    .dataframe thead th {\n",
              "        text-align: right;\n",
              "    }\n",
              "</style>\n",
              "<table border=\"1\" class=\"dataframe\">\n",
              "  <thead>\n",
              "    <tr style=\"text-align: right;\">\n",
              "      <th></th>\n",
              "      <th>0</th>\n",
              "      <th>1</th>\n",
              "      <th>2</th>\n",
              "      <th>3</th>\n",
              "      <th>4</th>\n",
              "      <th>5</th>\n",
              "      <th>6</th>\n",
              "      <th>7</th>\n",
              "      <th>8</th>\n",
              "      <th>9</th>\n",
              "      <th>10</th>\n",
              "      <th>11</th>\n",
              "      <th>12</th>\n",
              "      <th>13</th>\n",
              "      <th>14</th>\n",
              "      <th>15</th>\n",
              "      <th>16</th>\n",
              "      <th>17</th>\n",
              "      <th>18</th>\n",
              "      <th>19</th>\n",
              "      <th>20</th>\n",
              "      <th>21</th>\n",
              "      <th>22</th>\n",
              "      <th>23</th>\n",
              "      <th>24</th>\n",
              "    </tr>\n",
              "  </thead>\n",
              "  <tbody>\n",
              "    <tr>\n",
              "      <th>0</th>\n",
              "      <td>0.438</td>\n",
              "      <td>0.498</td>\n",
              "      <td>3.625</td>\n",
              "      <td>3.645</td>\n",
              "      <td>5.0</td>\n",
              "      <td>2.918</td>\n",
              "      <td>5.0</td>\n",
              "      <td>2.351</td>\n",
              "      <td>2.332</td>\n",
              "      <td>2.643</td>\n",
              "      <td>1.698</td>\n",
              "      <td>1.687</td>\n",
              "      <td>1.698</td>\n",
              "      <td>1.717</td>\n",
              "      <td>1.744</td>\n",
              "      <td>0.593</td>\n",
              "      <td>0.502</td>\n",
              "      <td>0.493</td>\n",
              "      <td>0.504</td>\n",
              "      <td>0.445</td>\n",
              "      <td>0.431</td>\n",
              "      <td>0.444</td>\n",
              "      <td>0.440</td>\n",
              "      <td>0.429</td>\n",
              "      <td>Slight-Right-Turn</td>\n",
              "    </tr>\n",
              "    <tr>\n",
              "      <th>1</th>\n",
              "      <td>0.438</td>\n",
              "      <td>0.498</td>\n",
              "      <td>3.625</td>\n",
              "      <td>3.648</td>\n",
              "      <td>5.0</td>\n",
              "      <td>2.918</td>\n",
              "      <td>5.0</td>\n",
              "      <td>2.637</td>\n",
              "      <td>2.332</td>\n",
              "      <td>2.649</td>\n",
              "      <td>1.695</td>\n",
              "      <td>1.687</td>\n",
              "      <td>1.695</td>\n",
              "      <td>1.720</td>\n",
              "      <td>1.744</td>\n",
              "      <td>0.592</td>\n",
              "      <td>0.502</td>\n",
              "      <td>0.493</td>\n",
              "      <td>0.504</td>\n",
              "      <td>0.449</td>\n",
              "      <td>0.431</td>\n",
              "      <td>0.444</td>\n",
              "      <td>0.443</td>\n",
              "      <td>0.429</td>\n",
              "      <td>Slight-Right-Turn</td>\n",
              "    </tr>\n",
              "    <tr>\n",
              "      <th>2</th>\n",
              "      <td>0.438</td>\n",
              "      <td>0.498</td>\n",
              "      <td>3.625</td>\n",
              "      <td>3.629</td>\n",
              "      <td>5.0</td>\n",
              "      <td>2.918</td>\n",
              "      <td>5.0</td>\n",
              "      <td>2.637</td>\n",
              "      <td>2.334</td>\n",
              "      <td>2.643</td>\n",
              "      <td>1.696</td>\n",
              "      <td>1.687</td>\n",
              "      <td>1.695</td>\n",
              "      <td>1.717</td>\n",
              "      <td>1.744</td>\n",
              "      <td>0.593</td>\n",
              "      <td>0.502</td>\n",
              "      <td>0.493</td>\n",
              "      <td>0.504</td>\n",
              "      <td>0.449</td>\n",
              "      <td>0.431</td>\n",
              "      <td>0.444</td>\n",
              "      <td>0.446</td>\n",
              "      <td>0.429</td>\n",
              "      <td>Slight-Right-Turn</td>\n",
              "    </tr>\n",
              "    <tr>\n",
              "      <th>3</th>\n",
              "      <td>0.437</td>\n",
              "      <td>0.501</td>\n",
              "      <td>3.625</td>\n",
              "      <td>3.626</td>\n",
              "      <td>5.0</td>\n",
              "      <td>2.918</td>\n",
              "      <td>5.0</td>\n",
              "      <td>2.353</td>\n",
              "      <td>2.334</td>\n",
              "      <td>2.642</td>\n",
              "      <td>1.730</td>\n",
              "      <td>1.687</td>\n",
              "      <td>1.695</td>\n",
              "      <td>1.717</td>\n",
              "      <td>1.744</td>\n",
              "      <td>0.593</td>\n",
              "      <td>0.502</td>\n",
              "      <td>0.493</td>\n",
              "      <td>0.504</td>\n",
              "      <td>0.449</td>\n",
              "      <td>0.431</td>\n",
              "      <td>0.444</td>\n",
              "      <td>0.444</td>\n",
              "      <td>0.429</td>\n",
              "      <td>Slight-Right-Turn</td>\n",
              "    </tr>\n",
              "    <tr>\n",
              "      <th>4</th>\n",
              "      <td>0.438</td>\n",
              "      <td>0.498</td>\n",
              "      <td>3.626</td>\n",
              "      <td>3.629</td>\n",
              "      <td>5.0</td>\n",
              "      <td>2.918</td>\n",
              "      <td>5.0</td>\n",
              "      <td>2.640</td>\n",
              "      <td>2.334</td>\n",
              "      <td>2.639</td>\n",
              "      <td>1.696</td>\n",
              "      <td>1.687</td>\n",
              "      <td>1.695</td>\n",
              "      <td>1.717</td>\n",
              "      <td>1.744</td>\n",
              "      <td>0.592</td>\n",
              "      <td>0.502</td>\n",
              "      <td>0.493</td>\n",
              "      <td>0.504</td>\n",
              "      <td>0.449</td>\n",
              "      <td>0.431</td>\n",
              "      <td>0.444</td>\n",
              "      <td>0.441</td>\n",
              "      <td>0.429</td>\n",
              "      <td>Slight-Right-Turn</td>\n",
              "    </tr>\n",
              "  </tbody>\n",
              "</table>\n",
              "</div>"
            ],
            "text/plain": [
              "      0      1      2      3   ...     21     22     23                 24\n",
              "0  0.438  0.498  3.625  3.645  ...  0.444  0.440  0.429  Slight-Right-Turn\n",
              "1  0.438  0.498  3.625  3.648  ...  0.444  0.443  0.429  Slight-Right-Turn\n",
              "2  0.438  0.498  3.625  3.629  ...  0.444  0.446  0.429  Slight-Right-Turn\n",
              "3  0.437  0.501  3.625  3.626  ...  0.444  0.444  0.429  Slight-Right-Turn\n",
              "4  0.438  0.498  3.626  3.629  ...  0.444  0.441  0.429  Slight-Right-Turn\n",
              "\n",
              "[5 rows x 25 columns]"
            ]
          },
          "metadata": {
            "tags": []
          },
          "execution_count": 6
        }
      ]
    }
  ]
}